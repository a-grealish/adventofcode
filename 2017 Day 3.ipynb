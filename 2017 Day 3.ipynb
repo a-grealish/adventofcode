{
 "cells": [
  {
   "cell_type": "markdown",
   "metadata": {},
   "source": [
    "## Week 3"
   ]
  },
  {
   "cell_type": "code",
   "execution_count": 85,
   "metadata": {
    "collapsed": true
   },
   "outputs": [],
   "source": [
    "def memory_steps(input):\n",
    "    x = 0\n",
    "    y = 0\n",
    "    \n",
    "    state = 1\n",
    "    steps = 0\n",
    "    n_steps = 1\n",
    "    \n",
    "    # Step around the memory strucutre calculating the x and y pos for each number\n",
    "    for i in range(1, input):\n",
    "        steps += 1\n",
    "        \n",
    "        if state == 1:\n",
    "            x += 1\n",
    "            if steps == n_steps:\n",
    "                steps = 0\n",
    "                state = 2\n",
    "        elif state == 2:\n",
    "            y += 1\n",
    "            if steps == n_steps:\n",
    "                steps = 0\n",
    "                n_steps += 1\n",
    "                state = 3\n",
    "        elif state == 3:\n",
    "            x -= 1\n",
    "            if steps == n_steps:\n",
    "                steps = 0\n",
    "                state = 4\n",
    "        elif state == 4:\n",
    "            y -= 1\n",
    "            if steps == n_steps:\n",
    "                steps = 0\n",
    "                n_steps += 1\n",
    "                state = 1\n",
    "        \n",
    "#         print (i, (x, y))\n",
    "                \n",
    "        \n",
    "        \n",
    "    \n",
    "    return abs(x) + abs(y)\n",
    "\n",
    "assert(memory_steps(1) == 0)\n",
    "assert(memory_steps(12) == 3)\n",
    "assert(memory_steps(23) == 2)\n",
    "assert(memory_steps(1024) == 31)"
   ]
  },
  {
   "cell_type": "code",
   "execution_count": 113,
   "metadata": {},
   "outputs": [
    {
     "data": {
      "text/plain": [
       "330785"
      ]
     },
     "execution_count": 113,
     "metadata": {},
     "output_type": "execute_result"
    }
   ],
   "source": [
    "def memory_stress_test(input):\n",
    "    x = 0\n",
    "    y = 0\n",
    "    \n",
    "    values = {\"0,0\": 1}\n",
    "        \n",
    "    state = 1\n",
    "    steps = 0\n",
    "    n_steps = 1\n",
    "    \n",
    "    def sum_adjancent(x,y):\n",
    "        sum = 0\n",
    "        for x_adj in range(x-1, x+2, 1):\n",
    "            for y_adj in range(y-1, y+2, 1):\n",
    "                try:\n",
    "                    sum += values[\"{},{}\".format(x_adj,y_adj)]\n",
    "                    # print((x_adj, y_adj), sum)\n",
    "                except KeyError:\n",
    "                    # print((x_adj, y_adj), None)\n",
    "                    pass\n",
    "        \n",
    "        return sum\n",
    "                \n",
    "    \n",
    "    # Step around the memory strucutre calculating the x and y pos for each number\n",
    "    i = 0\n",
    "    # An cutoff of the search after 1000 loops\n",
    "    while (i < 1000):\n",
    "            \n",
    "        steps += 1\n",
    "               \n",
    "        if state == 1:\n",
    "            x += 1\n",
    "            if steps == n_steps:\n",
    "                steps = 0\n",
    "                state = 2\n",
    "        elif state == 2:\n",
    "            y += 1\n",
    "            if steps == n_steps:\n",
    "                steps = 0\n",
    "                n_steps += 1\n",
    "                state = 3\n",
    "        elif state == 3:\n",
    "            x -= 1\n",
    "            if steps == n_steps:\n",
    "                steps = 0\n",
    "                state = 4\n",
    "        elif state == 4:\n",
    "            y -= 1\n",
    "            if steps == n_steps:\n",
    "                steps = 0\n",
    "                n_steps += 1\n",
    "                state = 1\n",
    "        \n",
    "        i += 1\n",
    "        \n",
    "        key = \"{},{}\".format(x,y)\n",
    "\n",
    "        values[key] = sum_adjancent(x,y)\n",
    "        \n",
    "        # print(\"Cell:\", (x,y), values[key])\n",
    "                        \n",
    "        if values[key] > input:\n",
    "            return values[key]\n",
    "\n",
    "memory_stress_test(325489)\n"
   ]
  },
  {
   "cell_type": "code",
   "execution_count": 76,
   "metadata": {},
   "outputs": [
    {
     "data": {
      "text/plain": [
       "552"
      ]
     },
     "execution_count": 76,
     "metadata": {},
     "output_type": "execute_result"
    }
   ],
   "source": [
    "memory_steps(325489)"
   ]
  }
 ],
 "metadata": {
  "kernelspec": {
   "display_name": "Python 3",
   "language": "python",
   "name": "python3"
  },
  "language_info": {
   "codemirror_mode": {
    "name": "ipython",
    "version": 3
   },
   "file_extension": ".py",
   "mimetype": "text/x-python",
   "name": "python",
   "nbconvert_exporter": "python",
   "pygments_lexer": "ipython3",
   "version": "3.6.1"
  }
 },
 "nbformat": 4,
 "nbformat_minor": 2
}
