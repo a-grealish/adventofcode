{
 "cells": [
  {
   "cell_type": "code",
   "execution_count": 50,
   "metadata": {
    "collapsed": true
   },
   "outputs": [],
   "source": [
    "def replace_char(input_str, char, index):\n",
    "    return input_str[:index] + char + input_str[index+1:]\n",
    "\n",
    "def dance_step(input_string, command):\n",
    "    command_prefix = command[0]\n",
    "    val = command[1:]\n",
    "  \n",
    "    # print(command, input_string)\n",
    "    \n",
    "    if command_prefix == 's':\n",
    "        # Spin\n",
    "        val = int(val)\n",
    "        input_string = input_string[-val:] + input_string[:-val]\n",
    "    elif command_prefix == 'x':\n",
    "        a,b = val.split('/')\n",
    "        a = int(a)\n",
    "        b = int(b)\n",
    "        temp = input_string[a]\n",
    "        input_string = replace_char(input_string, input_string[b], a)\n",
    "        input_string = replace_char(input_string, temp, b)\n",
    "    elif command_prefix == 'p':\n",
    "        a,b = val.split('/')\n",
    "        a_pos = input_string.index(a)\n",
    "        b_pos = input_string.index(b)\n",
    "        input_string = replace_char(input_string, b, a_pos)\n",
    "        input_string = replace_char(input_string, a, b_pos)\n",
    "    else:\n",
    "        raise Exception(\"Unregonised Command\")\n",
    "        \n",
    "    return input_string\n",
    "    \n",
    "def dance(input_string, commands):\n",
    "    commands = commands.strip()\n",
    "    for command in commands.split(','):\n",
    "        input_string = dance_step(input_string, command)\n",
    "    return input_string"
   ]
  },
  {
   "cell_type": "code",
   "execution_count": 51,
   "metadata": {},
   "outputs": [],
   "source": [
    "TEST_STRING = 'abcde'\n",
    "TEST_COMMANDS = 's1,x3/4,pe/b'\n",
    "EXPECTED = 'baedc'\n",
    "\n",
    "assert dance(TEST_STRING, TEST_COMMANDS) == EXPECTED"
   ]
  },
  {
   "cell_type": "code",
   "execution_count": 52,
   "metadata": {},
   "outputs": [
    {
     "name": "stdout",
     "output_type": "stream",
     "text": [
      "nlciboghjmfdapek\n"
     ]
    }
   ],
   "source": [
    "import string\n",
    "input_string = string.ascii_lowercase[:16]\n",
    "\n",
    "print(dance(input_string, open('day16.txt','r').read()))"
   ]
  },
  {
   "cell_type": "code",
   "execution_count": 53,
   "metadata": {
    "collapsed": true
   },
   "outputs": [],
   "source": [
    "# Part 2\n",
    "EXPECTED = 'ceadb'\n",
    "assert dance(dance(TEST_STRING, TEST_COMMANDS), TEST_COMMANDS) == EXPECTED"
   ]
  },
  {
   "cell_type": "code",
   "execution_count": 65,
   "metadata": {},
   "outputs": [
    {
     "name": "stdout",
     "output_type": "stream",
     "text": [
      "nlciboghmkedpfja\n"
     ]
    }
   ],
   "source": [
    "def part_two():\n",
    "    commands = open('day16.txt','r').read()\n",
    "    input_string = string.ascii_lowercase[:16]\n",
    "    itteration = 1000000000\n",
    "    # By experimentation the dance repeats every 63 cycles so no need to do all itterations\n",
    "    for i in range(itterations % 63):\n",
    "        input_string = dance(input_string, commands)\n",
    "\n",
    "    print(input_string)\n",
    "    \n",
    "part_two()"
   ]
  },
  {
   "cell_type": "code",
   "execution_count": 60,
   "metadata": {},
   "outputs": [
    {
     "name": "stdout",
     "output_type": "stream",
     "text": [
      "dbgnkoflcipjmeha\n",
      "         17495043 function calls in 20.532 seconds\n",
      "\n",
      "   Ordered by: standard name\n",
      "\n",
      "   ncalls  tottime  percall  cumtime  percall filename:lineno(function)\n",
      "  6877000    5.511    0.000    5.511    0.000 <ipython-input-50-076b9441e6c9>:1(replace_char)\n",
      "      500    1.814    0.004   20.528    0.041 <ipython-input-50-076b9441e6c9>:32(dance)\n",
      "  5000000   10.711    0.000   18.306    0.000 <ipython-input-50-076b9441e6c9>:4(dance_step)\n",
      "        1    0.003    0.003   20.532   20.532 <ipython-input-59-836b91b74ff4>:1(part_two)\n",
      "        1    0.000    0.000   20.532   20.532 <string>:1(<module>)\n",
      "        1    0.000    0.000    0.000    0.000 _bootlocale.py:11(getpreferredencoding)\n",
      "        1    0.000    0.000    0.000    0.000 codecs.py:259(__init__)\n",
      "        1    0.000    0.000    0.000    0.000 cp1252.py:22(decode)\n",
      "        3    0.000    0.000    0.000    0.000 iostream.py:180(schedule)\n",
      "        2    0.000    0.000    0.000    0.000 iostream.py:284(_is_master_process)\n",
      "        2    0.000    0.000    0.000    0.000 iostream.py:297(_schedule_flush)\n",
      "        2    0.000    0.000    0.000    0.000 iostream.py:342(write)\n",
      "        3    0.000    0.000    0.000    0.000 iostream.py:87(_event_pipe)\n",
      "        3    0.000    0.000    0.000    0.000 threading.py:1062(_wait_for_tstate_lock)\n",
      "        3    0.000    0.000    0.000    0.000 threading.py:1104(is_alive)\n",
      "        3    0.000    0.000    0.000    0.000 threading.py:506(is_set)\n",
      "        1    0.000    0.000    0.000    0.000 {built-in method _codecs.charmap_decode}\n",
      "        1    0.000    0.000    0.000    0.000 {built-in method _locale._getdefaultlocale}\n",
      "        1    0.000    0.000   20.532   20.532 {built-in method builtins.exec}\n",
      "        2    0.000    0.000    0.000    0.000 {built-in method builtins.isinstance}\n",
      "        1    0.000    0.000    0.000    0.000 {built-in method builtins.print}\n",
      "        1    0.000    0.000    0.000    0.000 {built-in method io.open}\n",
      "        2    0.000    0.000    0.000    0.000 {built-in method nt.getpid}\n",
      "        3    0.000    0.000    0.000    0.000 {built-in method nt.urandom}\n",
      "        3    0.000    0.000    0.000    0.000 {method 'acquire' of '_thread.lock' objects}\n",
      "        1    0.000    0.000    0.000    0.000 {method 'disable' of '_lsprof.Profiler' objects}\n",
      "  2178000    0.763    0.000    0.763    0.000 {method 'index' of 'str' objects}\n",
      "        1    0.000    0.000    0.000    0.000 {method 'read' of '_io.TextIOWrapper' objects}\n",
      "  3439000    1.722    0.000    1.722    0.000 {method 'split' of 'str' objects}\n",
      "      500    0.006    0.000    0.006    0.000 {method 'strip' of 'str' objects}\n",
      "\n",
      "\n"
     ]
    }
   ],
   "source": [
    "import cProfile\n",
    "cProfile.run('part_two()')"
   ]
  },
  {
   "cell_type": "code",
   "execution_count": null,
   "metadata": {
    "collapsed": true
   },
   "outputs": [],
   "source": []
  }
 ],
 "metadata": {
  "kernelspec": {
   "display_name": "Python 3",
   "language": "python",
   "name": "python3"
  },
  "language_info": {
   "codemirror_mode": {
    "name": "ipython",
    "version": 3
   },
   "file_extension": ".py",
   "mimetype": "text/x-python",
   "name": "python",
   "nbconvert_exporter": "python",
   "pygments_lexer": "ipython3",
   "version": "3.6.1"
  }
 },
 "nbformat": 4,
 "nbformat_minor": 2
}
