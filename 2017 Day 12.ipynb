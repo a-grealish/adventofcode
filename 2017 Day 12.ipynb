{
 "cells": [
  {
   "cell_type": "code",
   "execution_count": 13,
   "metadata": {},
   "outputs": [
    {
     "name": "stdout",
     "output_type": "stream",
     "text": [
      "[(0, 2), (1, 1), (2, 0), (2, 3), (2, 4), (3, 2), (3, 4), (4, 2), (4, 3), (4, 6), (5, 6), (6, 4), (6, 5)]\n",
      "6\n"
     ]
    }
   ],
   "source": [
    "TEST_INPUT = '''0 <-> 2\n",
    "1 <-> 1\n",
    "2 <-> 0, 3, 4\n",
    "3 <-> 2, 4\n",
    "4 <-> 2, 3, 6\n",
    "5 <-> 6\n",
    "6 <-> 4, 5'''\n",
    "\n",
    "def parse_input_str(input_str):\n",
    "    result = []\n",
    "    lines = input_str.splitlines()\n",
    "    for line in lines:\n",
    "        start, ends = line.split(' <-> ')\n",
    "        for end in ends.split(','):\n",
    "            result.append((int(start), int(end)))\n",
    "    return result\n",
    "\n",
    "pipes = parse_input_str(TEST_INPUT)\n",
    "print(pipes)\n",
    "            \n",
    "\n",
    "\n",
    "def find_group(start, pipes):\n",
    "    programs = [start]\n",
    "    \n",
    "    while(True):\n",
    "        modified = False\n",
    "        for pipe in pipes:\n",
    "            if pipe[0] in programs:\n",
    "                if pipe[1] not in programs:\n",
    "                    programs.append(pipe[1])\n",
    "                    modified = True\n",
    "        \n",
    "        if modified is False:\n",
    "            break       \n",
    "    \n",
    "    return programs\n",
    "\n",
    "print(len(find_group(0, pipes)))\n"
   ]
  },
  {
   "cell_type": "code",
   "execution_count": 14,
   "metadata": {},
   "outputs": [
    {
     "name": "stdout",
     "output_type": "stream",
     "text": [
      "Part 1 result:  128\n"
     ]
    }
   ],
   "source": [
    "# run first part\n",
    "print(\"Part 1 result: \", len(find_group(0, parse_input_str(open(\"day12.txt\", \"r\").read()))))"
   ]
  },
  {
   "cell_type": "code",
   "execution_count": 19,
   "metadata": {},
   "outputs": [
    {
     "name": "stdout",
     "output_type": "stream",
     "text": [
      "2\n"
     ]
    }
   ],
   "source": [
    "# Part 2\n",
    "\n",
    "def get_all_programs(pipes):\n",
    "    result = set()\n",
    "    for pipe in pipes:\n",
    "        if pipe[0] not in result:\n",
    "            result.add(pipe[0])\n",
    "    return result\n",
    "\n",
    "programs = get_all_programs(pipes)\n",
    "\n",
    "def count_distinct_groups(programs, pipes):\n",
    "    group_count = 0\n",
    "    while(len(programs) > 0):\n",
    "        # Take a random program from the list to start\n",
    "        group_item = programs.pop()\n",
    "        programs.add(group_item)\n",
    "        group = find_group(group_item, pipes)\n",
    "        for program in group:\n",
    "            # Remove all the programs in that group from the list\n",
    "            programs.remove(program)\n",
    "        group_count += 1\n",
    "\n",
    "    return group_count\n",
    "    \n",
    "print(count_distinct_groups(programs, pipes))        "
   ]
  },
  {
   "cell_type": "code",
   "execution_count": 21,
   "metadata": {},
   "outputs": [
    {
     "name": "stdout",
     "output_type": "stream",
     "text": [
      "Part 2 result:  209\n"
     ]
    }
   ],
   "source": [
    "# run part 2\n",
    "pipes = parse_input_str(open(\"day12.txt\", \"r\").read())\n",
    "print(\"Part 2 result: \", count_distinct_groups(get_all_programs(pipes), pipes))"
   ]
  }
 ],
 "metadata": {
  "kernelspec": {
   "display_name": "Python 3",
   "language": "python",
   "name": "python3"
  },
  "language_info": {
   "codemirror_mode": {
    "name": "ipython",
    "version": 3
   },
   "file_extension": ".py",
   "mimetype": "text/x-python",
   "name": "python",
   "nbconvert_exporter": "python",
   "pygments_lexer": "ipython3",
   "version": "3.6.1"
  }
 },
 "nbformat": 4,
 "nbformat_minor": 2
}
