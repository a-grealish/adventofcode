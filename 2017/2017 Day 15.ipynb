{
 "cells": [
  {
   "cell_type": "code",
   "execution_count": 20,
   "metadata": {},
   "outputs": [],
   "source": [
    "def sequence_generator(prev, multiplier, divisor, itterations):\n",
    "    i = 0\n",
    "    while(i < itterations):\n",
    "        yield prev\n",
    "        prev = (prev * multiplier) % divisor\n",
    "        i += 1         \n",
    "        \n",
    "    \n",
    "def count_matches(a_previous, b_previous, itterations):\n",
    "    A_MULTIPLIER = 16807\n",
    "    B_MULTIPLIER = 48271\n",
    "    DIVISOR = 2147483647\n",
    "    \n",
    "    matches = 0\n",
    "    \n",
    "    for a, b in zip(sequence_generator(a_previous, A_MULTIPLIER, DIVISOR, itterations),\n",
    "                    sequence_generator(b_previous, B_MULTIPLIER, DIVISOR, itterations)):\n",
    "        \n",
    "        # print(a, b, (a & 0xFFFF), (b & 0xFFFF))\n",
    "        \n",
    "        if (a & 0xFFFF) == (b & 0xFFFF):\n",
    "            matches += 1\n",
    "            \n",
    "    return matches\n",
    "\n",
    "assert count_matches(65, 8921, 5) == 1\n",
    "assert count_matches(65, 8921, 40000000) == 588"
   ]
  },
  {
   "cell_type": "code",
   "execution_count": 21,
   "metadata": {},
   "outputs": [
    {
     "name": "stdout",
     "output_type": "stream",
     "text": [
      "650\n"
     ]
    }
   ],
   "source": [
    "# Generator A starts with 783\n",
    "#  Generator B starts with 325\n",
    "print(count_matches(783, 325, 40000000))"
   ]
  },
  {
   "cell_type": "code",
   "execution_count": 23,
   "metadata": {},
   "outputs": [],
   "source": [
    "def part_2_generator(prev, multiplier, divisor, mod, itterations):\n",
    "    i = 0\n",
    "    while(i < itterations):\n",
    "        while(prev%mod != 0):\n",
    "            prev = (prev * multiplier) % divisor\n",
    "        yield prev\n",
    "        prev = (prev * multiplier) % divisor\n",
    "        i += 1         \n",
    "        \n",
    "def count_matches(a_previous, b_previous, itterations):\n",
    "    A_MULTIPLIER = 16807\n",
    "    B_MULTIPLIER = 48271\n",
    "    DIVISOR = 2147483647\n",
    "    \n",
    "    matches = 0\n",
    "    \n",
    "    for a, b in zip(part_2_generator(a_previous, A_MULTIPLIER, DIVISOR, 4, itterations),\n",
    "                    part_2_generator(b_previous, B_MULTIPLIER, DIVISOR, 8, itterations)):\n",
    "        \n",
    "        # print(a, b, (a & 0xFFFF), (b & 0xFFFF))\n",
    "        \n",
    "        if (a & 0xFFFF) == (b & 0xFFFF):\n",
    "            matches += 1\n",
    "            \n",
    "    return matches\n",
    "\n",
    "assert count_matches(65, 8921, 5) == 0"
   ]
  },
  {
   "cell_type": "code",
   "execution_count": 24,
   "metadata": {},
   "outputs": [
    {
     "name": "stdout",
     "output_type": "stream",
     "text": [
      "336\n"
     ]
    }
   ],
   "source": [
    "print(count_matches(783, 325, 5000000))"
   ]
  },
  {
   "cell_type": "code",
   "execution_count": null,
   "metadata": {
    "collapsed": true
   },
   "outputs": [],
   "source": []
  }
 ],
 "metadata": {
  "kernelspec": {
   "display_name": "Python 3",
   "language": "python",
   "name": "python3"
  },
  "language_info": {
   "codemirror_mode": {
    "name": "ipython",
    "version": 3
   },
   "file_extension": ".py",
   "mimetype": "text/x-python",
   "name": "python",
   "nbconvert_exporter": "python",
   "pygments_lexer": "ipython3",
   "version": "3.6.1"
  }
 },
 "nbformat": 4,
 "nbformat_minor": 2
}
