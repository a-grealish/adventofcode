{
 "cells": [
  {
   "cell_type": "code",
   "execution_count": 12,
   "metadata": {},
   "outputs": [
    {
     "name": "stdout",
     "output_type": "stream",
     "text": [
      "n: 0, ne: 3, se: 0\n",
      "n: 0, ne: 0, se: 0\n",
      "n: -2, ne: 2, se: 0\n",
      "False\n",
      "n: 0, ne: -3, se: 2\n",
      "False\n"
     ]
    }
   ],
   "source": [
    "def count_steps(input_instrutions):\n",
    "    n = 0\n",
    "    ne = 0\n",
    "    se = 0\n",
    "    \n",
    "    # process the steps\n",
    "    for step in input_instrutions.split(\",\"):\n",
    "        if step == 'n':\n",
    "            n += 1\n",
    "        elif step == 'ne':\n",
    "            ne += 1\n",
    "        elif step == 'se':\n",
    "            se += 1\n",
    "        elif step == 's':\n",
    "            n -= 1\n",
    "        elif step == 'sw':\n",
    "            ne -= 1\n",
    "        elif step == 'nw':\n",
    "            se -= 1\n",
    "        else:\n",
    "            raise \"step not recognsised\"\n",
    "            \n",
    "    print(\"n: {0}, ne: {1}, se: {2}\".format(n, ne, se))\n",
    "    \n",
    "    return n + ne + se\n",
    "\n",
    "\n",
    "assert(count_steps(\"ne,ne,ne\") == 3)\n",
    "assert(count_steps(\"ne,ne,sw,sw\") == 0)\n",
    "print(count_steps(\"ne,ne,s,s\") == 2)\n",
    "print(count_steps(\"se,sw,se,sw,sw\") == 3)"
   ]
  }
 ],
 "metadata": {
  "kernelspec": {
   "display_name": "Python 3",
   "language": "python",
   "name": "python3"
  },
  "language_info": {
   "codemirror_mode": {
    "name": "ipython",
    "version": 3
   },
   "file_extension": ".py",
   "mimetype": "text/x-python",
   "name": "python",
   "nbconvert_exporter": "python",
   "pygments_lexer": "ipython3",
   "version": "3.6.1"
  }
 },
 "nbformat": 4,
 "nbformat_minor": 2
}
