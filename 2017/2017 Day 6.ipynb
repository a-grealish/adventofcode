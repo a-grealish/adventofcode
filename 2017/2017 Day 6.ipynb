{
 "cells": [
  {
   "cell_type": "code",
   "execution_count": 40,
   "metadata": {},
   "outputs": [],
   "source": [
    "def redistribute_blocks(index, blocks):\n",
    "    \n",
    "    to_redistribute = blocks[index]\n",
    "    blocks[index] = 0\n",
    "    \n",
    "    while (to_redistribute > 0):\n",
    "        \n",
    "        index = 0 if index+1==len(blocks) else index + 1\n",
    "                \n",
    "        blocks[index] += 1\n",
    "        to_redistribute -= 1\n",
    "    \n",
    "    return blocks\n",
    "\n",
    "assert(redistribute_blocks(2, [0, 2, 7, 0]) == [2, 4, 1, 2])\n",
    "\n",
    "def find_matching_state(blocks):\n",
    "    \n",
    "    blocks_cycles = [blocks]\n",
    "    i = 0\n",
    "    while(True):\n",
    "        # print(blocks_cycles)\n",
    "        \n",
    "        i_max = blocks_cycles[i].index(max(blocks_cycles[i]))\n",
    "        \n",
    "        new_blocks = redistribute_blocks(i_max, blocks_cycles[i][:])\n",
    "        \n",
    "        if new_blocks in blocks_cycles:\n",
    "            first_occuraance = [i for i,x in enumerate(blocks_cycles) if x == new_blocks][0]\n",
    "            return i + 1, i+1 - first_occuraance\n",
    "        \n",
    "        blocks_cycles.append(new_blocks)\n",
    "        i += 1\n",
    "\n",
    "\n",
    "assert(find_matching_state([0,2,7,0]) == (5,4))"
   ]
  },
  {
   "cell_type": "code",
   "execution_count": 41,
   "metadata": {},
   "outputs": [
    {
     "name": "stdout",
     "output_type": "stream",
     "text": [
      "(14029, 2765)\n"
     ]
    }
   ],
   "source": [
    "def string_to_int_list(string):\n",
    "    return [int(x) for x in  string.split()]\n",
    "\n",
    "input = \"10\t3\t15\t10\t5\t15\t5\t15\t9\t2\t5\t8\t5\t2\t3\t6\"\n",
    "\n",
    "print(find_matching_state(string_to_int_list(input)))"
   ]
  }
 ],
 "metadata": {
  "kernelspec": {
   "display_name": "Python 3",
   "language": "python",
   "name": "python3"
  },
  "language_info": {
   "codemirror_mode": {
    "name": "ipython",
    "version": 3
   },
   "file_extension": ".py",
   "mimetype": "text/x-python",
   "name": "python",
   "nbconvert_exporter": "python",
   "pygments_lexer": "ipython3",
   "version": "3.6.1"
  }
 },
 "nbformat": 4,
 "nbformat_minor": 2
}
