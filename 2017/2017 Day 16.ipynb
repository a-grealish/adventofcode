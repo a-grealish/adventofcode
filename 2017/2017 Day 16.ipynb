{
 "cells": [
  {
   "cell_type": "code",
   "execution_count": 50,
   "metadata": {
    "collapsed": true
   },
   "outputs": [],
   "source": [
    "def replace_char(input_str, char, index):\n",
    "    return input_str[:index] + char + input_str[index+1:]\n",
    "\n",
    "def dance_step(input_string, command):\n",
    "    command_prefix = command[0]\n",
    "    val = command[1:]\n",
    "  \n",
    "    # print(command, input_string)\n",
    "    \n",
    "    if command_prefix == 's':\n",
    "        # Spin\n",
    "        val = int(val)\n",
    "        input_string = input_string[-val:] + input_string[:-val]\n",
    "    elif command_prefix == 'x':\n",
    "        a,b = val.split('/')\n",
    "        a = int(a)\n",
    "        b = int(b)\n",
    "        temp = input_string[a]\n",
    "        input_string = replace_char(input_string, input_string[b], a)\n",
    "        input_string = replace_char(input_string, temp, b)\n",
    "    elif command_prefix == 'p':\n",
    "        a,b = val.split('/')\n",
    "        a_pos = input_string.index(a)\n",
    "        b_pos = input_string.index(b)\n",
    "        input_string = replace_char(input_string, b, a_pos)\n",
    "        input_string = replace_char(input_string, a, b_pos)\n",
    "    else:\n",
    "        raise Exception(\"Unregonised Command\")\n",
    "        \n",
    "    return input_string\n",
    "    \n",
    "def dance(input_string, commands):\n",
    "    commands = commands.strip()\n",
    "    for command in commands.split(','):\n",
    "        input_string = dance_step(input_string, command)\n",
    "    return input_string"
   ]
  },
  {
   "cell_type": "code",
   "execution_count": 51,
   "metadata": {},
   "outputs": [],
   "source": [
    "TEST_STRING = 'abcde'\n",
    "TEST_COMMANDS = 's1,x3/4,pe/b'\n",
    "EXPECTED = 'baedc'\n",
    "\n",
    "assert dance(TEST_STRING, TEST_COMMANDS) == EXPECTED"
   ]
  },
  {
   "cell_type": "code",
   "execution_count": 52,
   "metadata": {},
   "outputs": [
    {
     "name": "stdout",
     "output_type": "stream",
     "text": [
      "nlciboghjmfdapek\n"
     ]
    }
   ],
   "source": [
    "import string\n",
    "input_string = string.ascii_lowercase[:16]\n",
    "\n",
    "print(dance(input_string, open('day16.txt','r').read()))"
   ]
  },
  {
   "cell_type": "code",
   "execution_count": 53,
   "metadata": {
    "collapsed": true
   },
   "outputs": [],
   "source": [
    "# Part 2\n",
    "EXPECTED = 'ceadb'\n",
    "assert dance(dance(TEST_STRING, TEST_COMMANDS), TEST_COMMANDS) == EXPECTED"
   ]
  },
  {
   "cell_type": "code",
   "execution_count": 66,
   "metadata": {},
   "outputs": [
    {
     "name": "stdout",
     "output_type": "stream",
     "text": [
      "nlciboghmkedpfja\n"
     ]
    }
   ],
   "source": [
    "def part_two():\n",
    "    commands = open('day16.txt','r').read()\n",
    "    input_string = string.ascii_lowercase[:16]\n",
    "    itteration = 1000000000\n",
    "    # By experimentation the dance repeats every 63 cycles so no need to do all itterations\n",
    "    for i in range(itterations % 63):\n",
    "        input_string = dance(input_string, commands)\n",
    "\n",
    "    print(input_string)\n",
    "    \n",
    "part_two()"
   ]
  },
  {
   "cell_type": "code",
   "execution_count": null,
   "metadata": {
    "collapsed": true
   },
   "outputs": [],
   "source": []
  }
 ],
 "metadata": {
  "kernelspec": {
   "display_name": "Python 3",
   "language": "python",
   "name": "python3"
  },
  "language_info": {
   "codemirror_mode": {
    "name": "ipython",
    "version": 3
   },
   "file_extension": ".py",
   "mimetype": "text/x-python",
   "name": "python",
   "nbconvert_exporter": "python",
   "pygments_lexer": "ipython3",
   "version": "3.6.1"
  }
 },
 "nbformat": 4,
 "nbformat_minor": 2
}
