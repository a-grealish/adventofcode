{
 "cells": [
  {
   "cell_type": "code",
   "execution_count": 175,
   "metadata": {},
   "outputs": [],
   "source": [
    "chars_to_remove = 0\n",
    "\n",
    "def scan_garbage_end(scan_str, start_i=0):\n",
    "    # print(scan_str)\n",
    "    skip_next = False\n",
    "    \n",
    "    global chars_to_remove\n",
    "    \n",
    "    i = start_i + 1\n",
    "    \n",
    "    while(i < len(scan_str)):\n",
    "               \n",
    "        if skip_next:\n",
    "            skip_next = False\n",
    "            i += 1\n",
    "            continue\n",
    "        \n",
    "        # print(i, skip_next)\n",
    "        \n",
    "        if scan_str[i] == '!':\n",
    "            skip_next = True        \n",
    "        elif scan_str[i] == '>':\n",
    "            # print (i, scan_str[i])\n",
    "            break\n",
    "        else:\n",
    "            # print(\"Removing \", scan_str[i])\n",
    "            chars_to_remove += 1\n",
    "        \n",
    "        i += 1\n",
    "    \n",
    "    return i\n",
    "\n",
    "assert(scan_garbage_end(\"<12345>\") == 6)\n",
    "assert(scan_garbage_end(\"<<<<<<>\") == 6)\n",
    "assert(scan_garbage_end(\"<{!>}>\") == 5)\n",
    "assert(scan_garbage_end(\"<!!>\") == 3)\n",
    "assert(scan_garbage_end(\"<!!!>>\") == 5)\n",
    "assert(scan_garbage_end(\"<<<<<<>test\") == 6)\n",
    "assert(scan_garbage_end(\"<{o\\\"i!a,<{i<a>\") == 13)   "
   ]
  },
  {
   "cell_type": "code",
   "execution_count": 176,
   "metadata": {},
   "outputs": [],
   "source": [
    "# Recursive function to find a group then keep calling itself to find sub groups\n",
    "def score_groups_r(scan_str, start_i=0, level=1, score=0):\n",
    "    \n",
    "    i = start_i\n",
    "    group_open = False\n",
    "        \n",
    "    # print(scan_str[start_i:])\n",
    "    \n",
    "    while(i < len(scan_str)):\n",
    "        \n",
    "        # print(i, scan_str[i])\n",
    "               \n",
    "        if scan_str[i] == '{':           \n",
    "            if group_open:\n",
    "                i, sub_score = score_groups_r(scan_str, i, level+1, score)\n",
    "                score = sub_score\n",
    "            else:\n",
    "                group_open = True\n",
    "                \n",
    "        elif scan_str[i] == '}':\n",
    "            if group_open:\n",
    "                # print(\"score = \", score, \" + \", level, \" = \", score+level)\n",
    "                score += level\n",
    "                group_open = False\n",
    "            else:\n",
    "                i -= 1\n",
    "                break\n",
    "        \n",
    "        elif scan_str[i] == '<':\n",
    "            j = scan_garbage_end(scan_str, i)\n",
    "            i = j\n",
    "        else:\n",
    "            pass\n",
    "            # print(\"Ignoring \"+scan_str[i], i)\n",
    "        \n",
    "        i += 1\n",
    "    \n",
    "    # print (\"Returning \", score, \" from \"+scan_str[start_i:i]+\" with score \", score)\n",
    "    return (i, score)\n",
    "\n",
    "def score_groups(scan_str):\n",
    "    return score_groups_r(scan_str)[1]\n",
    "\n",
    "assert(score_groups('{}') == 1)\n",
    "assert(score_groups('{{{}}}') == 6)\n",
    "assert(score_groups(\"{{{},{},{{}}}}\") == 16)\n",
    "assert(score_groups('{<ab>}') == 1)\n",
    "assert(score_groups('{{<ab>},{<ab>},{<ab>},{<ab>}}') == 9)\n",
    "assert(score_groups('{{<a!>},{<a!>},{<a!>},{<ab>}}') == 3)"
   ]
  },
  {
   "cell_type": "code",
   "execution_count": 180,
   "metadata": {},
   "outputs": [
    {
     "name": "stdout",
     "output_type": "stream",
     "text": [
      "Part 1:  14190\n",
      "Part 2:  7053\n"
     ]
    }
   ],
   "source": [
    "with open('day9.txt') as file:\n",
    "    input_str = file.read()\n",
    "\n",
    "# Print the score for Part 1\n",
    "print (\"Part 1: \", score_groups(input_str))\n",
    "\n",
    "# Ensure Part 2 does not break part 1\n",
    "assert(score_groups(input_str) == 14190)\n",
    "\n",
    "# Print the sum of garbage for part 2\n",
    "chars_to_remove = 0\n",
    "score_groups(input_str)\n",
    "print (\"Part 2: \", chars_to_remove)"
   ]
  }
 ],
 "metadata": {
  "kernelspec": {
   "display_name": "Python 3",
   "language": "python",
   "name": "python3"
  },
  "language_info": {
   "codemirror_mode": {
    "name": "ipython",
    "version": 3
   },
   "file_extension": ".py",
   "mimetype": "text/x-python",
   "name": "python",
   "nbconvert_exporter": "python",
   "pygments_lexer": "ipython3",
   "version": "3.6.1"
  }
 },
 "nbformat": 4,
 "nbformat_minor": 2
}
