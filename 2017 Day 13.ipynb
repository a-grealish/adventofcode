{
 "cells": [
  {
   "cell_type": "code",
   "execution_count": 23,
   "metadata": {},
   "outputs": [
    {
     "name": "stdout",
     "output_type": "stream",
     "text": [
      "[3, 2, 0, 0, 4, 0, 4]\n",
      "24\n"
     ]
    }
   ],
   "source": [
    "TEST_INPUT = '''0: 3\n",
    "1: 2\n",
    "4: 4\n",
    "6: 4'''\n",
    "\n",
    "def parse_input(input_str):\n",
    "    lines = input_str.splitlines()\n",
    "    \n",
    "    full_depth = max([int(line.split(':')[0]) for line in lines])\n",
    "    \n",
    "    firewall = [0 for x in range(0, full_depth+1)]\n",
    "    \n",
    "    for line in lines:\n",
    "        layer_depth, layer_range = line.split(':')\n",
    "        firewall[int(layer_depth)] = int(layer_range)\n",
    "        \n",
    "    return firewall\n",
    "\n",
    "firewall = parse_input(TEST_INPUT)\n",
    "print(firewall)\n",
    "\n",
    "\n",
    "def calculate_severity(firewall, delay=0):\n",
    "    severity = 0\n",
    "    for step, layer_range in enumerate(firewall):\n",
    "        # print(f\"Step: {step}, layer_range: {layer_range}\")\n",
    "        if layer_range != 0:\n",
    "            # print(f\"\\t step+delay:{step+delay}, clash_pos: {(2*layer_range - 2 )}, mod: {(step+delay) % (2*layer_range - 2)}\")\n",
    "            if (step+delay) % (2*layer_range - 2) == 0:\n",
    "                severity += (step+delay) * layer_range\n",
    "    \n",
    "    return severity\n",
    "\n",
    "severity =  calculate_severity(firewall)\n",
    "print(severity)\n",
    "assert severity == 24"
   ]
  },
  {
   "cell_type": "code",
   "execution_count": 24,
   "metadata": {},
   "outputs": [
    {
     "name": "stdout",
     "output_type": "stream",
     "text": [
      "Part 1 Solution: 648\n"
     ]
    }
   ],
   "source": [
    "# Part 1\n",
    "print(\"Part 1 Solution: \" + str(calculate_severity(parse_input(open(\"day13.txt\", \"r\").read()))))"
   ]
  },
  {
   "cell_type": "code",
   "execution_count": 25,
   "metadata": {},
   "outputs": [
    {
     "name": "stdout",
     "output_type": "stream",
     "text": [
      "Part 2 Solution: 3933124\n"
     ]
    }
   ],
   "source": [
    "# Part 2 - Pass throug the firewall undetected\n",
    "def find_delay(firewall):\n",
    "    delay = 0\n",
    "    while(True):\n",
    "        # print(f\"Delay: {delay}\")\n",
    "        severity = calculate_severity(firewall, delay)\n",
    "        \n",
    "        if severity == 0:\n",
    "            # print(delay, severity)\n",
    "            break\n",
    "        delay += 1\n",
    "        \n",
    "    return delay\n",
    "\n",
    "assert find_delay(firewall) == 10\n",
    "\n",
    "print(\"Part 2 Solution: \" + str(find_delay(parse_input(open(\"day13.txt\", \"r\").read()))))"
   ]
  },
  {
   "cell_type": "code",
   "execution_count": null,
   "metadata": {
    "collapsed": true
   },
   "outputs": [],
   "source": []
  }
 ],
 "metadata": {
  "kernelspec": {
   "display_name": "Python 3",
   "language": "python",
   "name": "python3"
  },
  "language_info": {
   "codemirror_mode": {
    "name": "ipython",
    "version": 3
   },
   "file_extension": ".py",
   "mimetype": "text/x-python",
   "name": "python",
   "nbconvert_exporter": "python",
   "pygments_lexer": "ipython3",
   "version": "3.6.1"
  }
 },
 "nbformat": 4,
 "nbformat_minor": 2
}
